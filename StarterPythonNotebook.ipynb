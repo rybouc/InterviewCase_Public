{
 "cells": [
  {
   "cell_type": "markdown",
   "id": "5202d5c9",
   "metadata": {},
   "source": [
    "# Case: Starter Notebook"
   ]
  },
  {
   "cell_type": "code",
   "execution_count": null,
   "id": "887753fd",
   "metadata": {},
   "outputs": [],
   "source": [
    "# import some common libraries\n",
    "import pandas as pd\n",
    "import numpy as np\n",
    "import matplotlib.pyplot as plt\n",
    "import matplotlib\n",
    "import seaborn as sns"
   ]
  },
  {
   "cell_type": "markdown",
   "id": "36587210",
   "metadata": {},
   "source": [
    "## Load and Explore Account Types"
   ]
  },
  {
   "cell_type": "code",
   "execution_count": null,
   "id": "cbceffd9",
   "metadata": {},
   "outputs": [],
   "source": [
    "#load data\n",
    "accts = pd.read_csv('Case_AccountData.csv')\n",
    "accts.head()"
   ]
  },
  {
   "cell_type": "markdown",
   "id": "00e49e0c",
   "metadata": {},
   "source": [
    "## Load and Explore Acquisition Dates"
   ]
  },
  {
   "cell_type": "code",
   "execution_count": null,
   "id": "eb403a49",
   "metadata": {},
   "outputs": [],
   "source": [
    "acq = pd.read_csv('Case_AccountCreation.csv')\n",
    "acq.head()"
   ]
  },
  {
   "cell_type": "markdown",
   "id": "9aee79c6",
   "metadata": {},
   "source": [
    "## Load and Explore Usage Data"
   ]
  },
  {
   "cell_type": "code",
   "execution_count": null,
   "id": "987b84fc",
   "metadata": {},
   "outputs": [],
   "source": [
    "usage = pd.read_csv('Case_UsageData.csv')\n",
    "usage.head()"
   ]
  }
 ],
 "metadata": {
  "kernelspec": {
   "display_name": "Python 3",
   "language": "python",
   "name": "python3"
  },
  "language_info": {
   "codemirror_mode": {
    "name": "ipython",
    "version": 3
   },
   "file_extension": ".py",
   "mimetype": "text/x-python",
   "name": "python",
   "nbconvert_exporter": "python",
   "pygments_lexer": "ipython3",
   "version": "3.8.8"
  }
 },
 "nbformat": 4,
 "nbformat_minor": 5
}
